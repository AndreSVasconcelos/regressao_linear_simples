{
  "nbformat": 4,
  "nbformat_minor": 0,
  "metadata": {
    "colab": {
      "provenance": [],
      "authorship_tag": "ABX9TyPGPZ4fL0LrcT5TNH/laLwA",
      "include_colab_link": true
    },
    "kernelspec": {
      "name": "python3",
      "display_name": "Python 3"
    },
    "language_info": {
      "name": "python"
    }
  },
  "cells": [
    {
      "cell_type": "markdown",
      "metadata": {
        "id": "view-in-github",
        "colab_type": "text"
      },
      "source": [
        "<a href=\"https://colab.research.google.com/github/AndreSVasconcelos/regressao_linear_simples/blob/main/exercicio_regressao_linear.ipynb\" target=\"_parent\"><img src=\"https://colab.research.google.com/assets/colab-badge.svg\" alt=\"Open In Colab\"/></a>"
      ]
    },
    {
      "cell_type": "markdown",
      "source": [
        "### **Exercício:** Criar um modelo e fazer a comparação da performance obtida entre os conjuntos de treinamento e de teste"
      ],
      "metadata": {
        "id": "P_d8IoMFNVVx"
      }
    },
    {
      "cell_type": "code",
      "source": [
        "# Importar Libs\n",
        "import numpy as np\n",
        "import matplotlib.pyplot as plt\n",
        "from sklearn.model_selection import train_test_split\n",
        "from sklearn.linear_model import LinearRegression\n",
        "from sklearn.model_selection import cross_val_score\n",
        "from sklearn.metrics import mean_absolute_error, mean_squared_error, r2_score"
      ],
      "metadata": {
        "id": "rVpV69HXOAcE"
      },
      "execution_count": 2,
      "outputs": []
    },
    {
      "cell_type": "code",
      "source": [
        "# Gerar dados aleatórios\n",
        "np.random.seed(42)\n",
        "x = np.random.rand(100, 1)\n",
        "y = 2 + 3 * x + np.random.randn(100, 1)"
      ],
      "metadata": {
        "id": "1X_2JGKYODDz"
      },
      "execution_count": 3,
      "outputs": []
    },
    {
      "cell_type": "code",
      "source": [
        "# Dividir dados em conjunto de treinamento e teste\n",
        "x_treinamento, x_teste, y_treinamento, y_teste = train_test_split(x, y, test_size=0.2, random_state=0)"
      ],
      "metadata": {
        "id": "7WdhXzcFPJQy"
      },
      "execution_count": 4,
      "outputs": []
    },
    {
      "cell_type": "code",
      "source": [
        "# Criando e treinando o modelo de regressão linear\n",
        "modelo = LinearRegression()\n",
        "modelo.fit(x_treinamento, y_treinamento)"
      ],
      "metadata": {
        "colab": {
          "base_uri": "https://localhost:8080/",
          "height": 74
        },
        "id": "x3ExUGORPju1",
        "outputId": "da3d002e-f8b5-44bd-f134-36fd707c8ffb"
      },
      "execution_count": 5,
      "outputs": [
        {
          "output_type": "execute_result",
          "data": {
            "text/plain": [
              "LinearRegression()"
            ],
            "text/html": [
              "<style>#sk-container-id-1 {color: black;background-color: white;}#sk-container-id-1 pre{padding: 0;}#sk-container-id-1 div.sk-toggleable {background-color: white;}#sk-container-id-1 label.sk-toggleable__label {cursor: pointer;display: block;width: 100%;margin-bottom: 0;padding: 0.3em;box-sizing: border-box;text-align: center;}#sk-container-id-1 label.sk-toggleable__label-arrow:before {content: \"▸\";float: left;margin-right: 0.25em;color: #696969;}#sk-container-id-1 label.sk-toggleable__label-arrow:hover:before {color: black;}#sk-container-id-1 div.sk-estimator:hover label.sk-toggleable__label-arrow:before {color: black;}#sk-container-id-1 div.sk-toggleable__content {max-height: 0;max-width: 0;overflow: hidden;text-align: left;background-color: #f0f8ff;}#sk-container-id-1 div.sk-toggleable__content pre {margin: 0.2em;color: black;border-radius: 0.25em;background-color: #f0f8ff;}#sk-container-id-1 input.sk-toggleable__control:checked~div.sk-toggleable__content {max-height: 200px;max-width: 100%;overflow: auto;}#sk-container-id-1 input.sk-toggleable__control:checked~label.sk-toggleable__label-arrow:before {content: \"▾\";}#sk-container-id-1 div.sk-estimator input.sk-toggleable__control:checked~label.sk-toggleable__label {background-color: #d4ebff;}#sk-container-id-1 div.sk-label input.sk-toggleable__control:checked~label.sk-toggleable__label {background-color: #d4ebff;}#sk-container-id-1 input.sk-hidden--visually {border: 0;clip: rect(1px 1px 1px 1px);clip: rect(1px, 1px, 1px, 1px);height: 1px;margin: -1px;overflow: hidden;padding: 0;position: absolute;width: 1px;}#sk-container-id-1 div.sk-estimator {font-family: monospace;background-color: #f0f8ff;border: 1px dotted black;border-radius: 0.25em;box-sizing: border-box;margin-bottom: 0.5em;}#sk-container-id-1 div.sk-estimator:hover {background-color: #d4ebff;}#sk-container-id-1 div.sk-parallel-item::after {content: \"\";width: 100%;border-bottom: 1px solid gray;flex-grow: 1;}#sk-container-id-1 div.sk-label:hover label.sk-toggleable__label {background-color: #d4ebff;}#sk-container-id-1 div.sk-serial::before {content: \"\";position: absolute;border-left: 1px solid gray;box-sizing: border-box;top: 0;bottom: 0;left: 50%;z-index: 0;}#sk-container-id-1 div.sk-serial {display: flex;flex-direction: column;align-items: center;background-color: white;padding-right: 0.2em;padding-left: 0.2em;position: relative;}#sk-container-id-1 div.sk-item {position: relative;z-index: 1;}#sk-container-id-1 div.sk-parallel {display: flex;align-items: stretch;justify-content: center;background-color: white;position: relative;}#sk-container-id-1 div.sk-item::before, #sk-container-id-1 div.sk-parallel-item::before {content: \"\";position: absolute;border-left: 1px solid gray;box-sizing: border-box;top: 0;bottom: 0;left: 50%;z-index: -1;}#sk-container-id-1 div.sk-parallel-item {display: flex;flex-direction: column;z-index: 1;position: relative;background-color: white;}#sk-container-id-1 div.sk-parallel-item:first-child::after {align-self: flex-end;width: 50%;}#sk-container-id-1 div.sk-parallel-item:last-child::after {align-self: flex-start;width: 50%;}#sk-container-id-1 div.sk-parallel-item:only-child::after {width: 0;}#sk-container-id-1 div.sk-dashed-wrapped {border: 1px dashed gray;margin: 0 0.4em 0.5em 0.4em;box-sizing: border-box;padding-bottom: 0.4em;background-color: white;}#sk-container-id-1 div.sk-label label {font-family: monospace;font-weight: bold;display: inline-block;line-height: 1.2em;}#sk-container-id-1 div.sk-label-container {text-align: center;}#sk-container-id-1 div.sk-container {/* jupyter's `normalize.less` sets `[hidden] { display: none; }` but bootstrap.min.css set `[hidden] { display: none !important; }` so we also need the `!important` here to be able to override the default hidden behavior on the sphinx rendered scikit-learn.org. See: https://github.com/scikit-learn/scikit-learn/issues/21755 */display: inline-block !important;position: relative;}#sk-container-id-1 div.sk-text-repr-fallback {display: none;}</style><div id=\"sk-container-id-1\" class=\"sk-top-container\"><div class=\"sk-text-repr-fallback\"><pre>LinearRegression()</pre><b>In a Jupyter environment, please rerun this cell to show the HTML representation or trust the notebook. <br />On GitHub, the HTML representation is unable to render, please try loading this page with nbviewer.org.</b></div><div class=\"sk-container\" hidden><div class=\"sk-item\"><div class=\"sk-estimator sk-toggleable\"><input class=\"sk-toggleable__control sk-hidden--visually\" id=\"sk-estimator-id-1\" type=\"checkbox\" checked><label for=\"sk-estimator-id-1\" class=\"sk-toggleable__label sk-toggleable__label-arrow\">LinearRegression</label><div class=\"sk-toggleable__content\"><pre>LinearRegression()</pre></div></div></div></div></div>"
            ]
          },
          "metadata": {},
          "execution_count": 5
        }
      ]
    },
    {
      "cell_type": "code",
      "source": [
        "# Fazer previsões do modelo normal\n",
        "y_teste_pred_normal = modelo.predict(x_teste)\n",
        "y_treinamento_pred_normal = modelo.predict(x_treinamento)"
      ],
      "metadata": {
        "id": "tFQiEpYCPyAR"
      },
      "execution_count": 14,
      "outputs": []
    },
    {
      "cell_type": "code",
      "source": [
        "# Fazendo a validação cruzada\n",
        "cv_scores = cross_val_score(modelo, x, y, cv=5)\n",
        "print(f'Scores de validação cruzada: {cv_scores}')\n",
        "print(f'Média dos scores: {cv_scores.mean()}')"
      ],
      "metadata": {
        "colab": {
          "base_uri": "https://localhost:8080/"
        },
        "id": "A_a_j6hoQMXR",
        "outputId": "fdd3f065-6fcc-4390-a372-35dd4613de47"
      },
      "execution_count": 15,
      "outputs": [
        {
          "output_type": "stream",
          "name": "stdout",
          "text": [
            "Scores de validação cruzada: [0.27063245 0.14615562 0.27220857 0.56496434 0.38890332]\n",
            "Média dos scores: 0.3285728596911465\n"
          ]
        }
      ]
    },
    {
      "cell_type": "code",
      "source": [
        "# Fazer previsões do modelo por validação cruzada\n",
        "y_teste_pred_cv = modelo.predict(x_teste)\n",
        "y_treinamento_pred_cv = modelo.predict(x_treinamento)"
      ],
      "metadata": {
        "id": "yDJmDZfGRTCt"
      },
      "execution_count": 16,
      "outputs": []
    },
    {
      "cell_type": "code",
      "source": [
        "# Coletando as métricas de avaliação\n",
        "# Mean Absolute Error\n",
        "mae_treinamento_normal = mean_absolute_error(y_treinamento, y_treinamento_pred_normal)\n",
        "mae_teste_normal = mean_absolute_error(y_teste, y_teste_pred_normal)\n",
        "mae_treinamento_cv = mean_absolute_error(y_treinamento, y_treinamento_pred_cv)\n",
        "mae_teste_cv = mean_absolute_error(y_teste, y_teste_pred_cv)\n",
        "\n",
        "# Mean Squared Error\n",
        "mse_treinamento_normal = mean_squared_error(y_treinamento, y_treinamento_pred_normal)\n",
        "mse_teste_normal = mean_squared_error(y_teste, y_teste_pred_normal)\n",
        "mse_treinamento_cv = mean_squared_error(y_treinamento, y_treinamento_pred_cv)\n",
        "mse_teste_cv = mean_squared_error(y_teste, y_teste_pred_cv)\n",
        "\n",
        "# R2\n",
        "r2_treinamento_normal = r2_score(y_treinamento, y_treinamento_pred_normal)\n",
        "r2_teste_normal = r2_score(y_teste, y_teste_pred_normal)\n",
        "r2_treinamento_cv = r2_score(y_treinamento, y_treinamento_pred_cv)\n",
        "r2_teste_cv = r2_score(y_teste, y_teste_pred_cv)"
      ],
      "metadata": {
        "id": "laik5yfuRuNV"
      },
      "execution_count": 17,
      "outputs": []
    },
    {
      "cell_type": "code",
      "source": [
        "# Visualizar resultados\n",
        "print(\"Resultados do modelo normal:\")\n",
        "print(f\"MAE treinamento: {mae_treinamento_normal:.2f}\")\n",
        "print(f\"MAE teste: {mae_teste_normal:.2f}\")\n",
        "print(f\"MSE treinamento: {mse_treinamento_normal:.2f}\")\n",
        "print(f\"MSE teste: {mse_teste_normal:.2f}\")\n",
        "print(f\"R2 treinamento: {r2_treinamento_normal:.2f}\")\n",
        "print(f\"R2 teste: {r2_teste_normal:.2f}\")\n",
        "print('==================================================================')\n",
        "print(\"Resultados do modelo por validação cruzada:\")\n",
        "print(f\"MAE treinamento: {mae_treinamento_cv:.2f}\")\n",
        "print(f\"MAE teste: {mae_teste_cv:.2f}\")\n",
        "print(f\"MSE treinamento: {mse_treinamento_cv:.2f}\")\n",
        "print(f\"MSE teste: {mse_teste_cv:.2f}\")\n",
        "print(f\"R2 treinamento: {r2_treinamento_cv:.2f}\")\n",
        "print(f\"R2 teste: {r2_teste_cv:.2f}\")"
      ],
      "metadata": {
        "colab": {
          "base_uri": "https://localhost:8080/"
        },
        "id": "8umDLMJ1Sb9v",
        "outputId": "dfa76b6f-b072-4993-ee9d-b7c684894382"
      },
      "execution_count": 18,
      "outputs": [
        {
          "output_type": "stream",
          "name": "stdout",
          "text": [
            "Resultados do modelo normal:\n",
            "MAE treinamento: 0.71\n",
            "MAE teste: 0.64\n",
            "MSE treinamento: 0.84\n",
            "MSE teste: 0.67\n",
            "R2 treinamento: 0.39\n",
            "R2 teste: 0.45\n",
            "==================================================================\n",
            "Resultados do modelo por validação cruzada:\n",
            "MAE treinamento: 0.71\n",
            "MAE teste: 0.64\n",
            "MSE treinamento: 0.84\n",
            "MSE teste: 0.67\n",
            "R2 treinamento: 0.39\n",
            "R2 teste: 0.45\n"
          ]
        }
      ]
    },
    {
      "cell_type": "code",
      "source": [],
      "metadata": {
        "id": "335by27US-mV"
      },
      "execution_count": null,
      "outputs": []
    }
  ]
}